{
 "cells": [
  {
   "cell_type": "code",
   "execution_count": 146,
   "metadata": {},
   "outputs": [],
   "source": [
    "# header files\n",
    "import numpy as np\n",
    "import torch\n",
    "import h5py\n",
    "from torch.utils import data\n",
    "import torch.nn as nn\n",
    "import torch.nn.functional as F\n",
    "from torch.autograd import Variable\n",
    "import torch.optim as optim"
   ]
  },
  {
   "cell_type": "code",
   "execution_count": 138,
   "metadata": {},
   "outputs": [],
   "source": [
    "# ImageClassifier Dataset class\n",
    "class ImageClassifierDataset(data.Dataset):\n",
    "    # init function\n",
    "    def __init__(self, file, data_category):\n",
    "        self.file = file\n",
    "        self.file_dataset = h5py.File(self.file, 'r')\n",
    "        \n",
    "        # get input and output data\n",
    "        self.file_input_orig = np.array(self.file_dataset[str(data_category) + '_set_x'])\n",
    "        self.file_output_orig = np.array(self.file_dataset[str(data_category) + '_set_y'])\n",
    "        self.file_output = self.file_output_orig.reshape(1, self.file_output_orig.shape[0])\n",
    "        self.file_input = (self.file_input_orig.reshape(self.file_input_orig.shape[0], -1).T) / 255.\n",
    "        #self.classes = np.array(test_dataset[\"list_classes\"][:])\n",
    "    \n",
    "    # length of array for training and testing\n",
    "    def __len__(self):\n",
    "        return len(self.file_input[0])\n",
    "    \n",
    "    # individual array element for training and testing\n",
    "    def __getitem__(self, idx):\n",
    "        return (self.file_input[:, idx], self.file_output[0, idx])\n",
    "    \n",
    "    # get input data\n",
    "    def get_input_data(self):\n",
    "        return np.array(self.file_input)\n",
    "    \n",
    "    # get output data\n",
    "    def get_output_data(self):\n",
    "        return np.array(self.file_output)"
   ]
  },
  {
   "cell_type": "code",
   "execution_count": 200,
   "metadata": {},
   "outputs": [],
   "source": [
    "# get training and testing data\n",
    "train_file=\"data/train_catvnoncat.h5\"\n",
    "test_file=\"data/test_catvnoncat.h5\"\n",
    "train_dataset = ImageClassifierDataset(train_file, \"train\")\n",
    "test_dataset = ImageClassifierDataset(test_file, \"test\")\n",
    "train_input_data = Variable(torch.from_numpy(train_dataset.get_input_data().astype(np.float32)), requires_grad = True)\n",
    "test_input_data = Variable(torch.from_numpy(test_dataset.get_input_data().astype(np.float32)), requires_grad = True)\n",
    "train_output_data = Variable(torch.from_numpy(train_dataset.get_output_data().astype(np.float32)), requires_grad = False)\n",
    "test_output_data = Variable(torch.from_numpy(test_dataset.get_output_data().astype(np.float32)), requires_grad = False)"
   ]
  },
  {
   "cell_type": "code",
   "execution_count": 201,
   "metadata": {},
   "outputs": [],
   "source": [
    "# neural network class\n",
    "class Net(nn.Module):\n",
    "    # init function\n",
    "    def __init__(self):\n",
    "        super(Net, self).__init__()\n",
    "        self.fc1 = nn.Linear(12288, 14)\n",
    "        self.fc2 = nn.Linear(14, 1)\n",
    "        \n",
    "    # forward propagation\n",
    "    def forward(self, x):\n",
    "        x = F.sigmoid(self.fc2(F.relu(self.fc1(x))))\n",
    "        return x\n",
    "    \n",
    "criterion = nn.CrossEntropyLoss()"
   ]
  },
  {
   "cell_type": "code",
   "execution_count": 202,
   "metadata": {},
   "outputs": [
    {
     "name": "stdout",
     "output_type": "stream",
     "text": [
      "Net(\n",
      "  (fc1): Linear(in_features=12288, out_features=14, bias=True)\n",
      "  (fc2): Linear(in_features=14, out_features=1, bias=True)\n",
      ")\n",
      "[Parameter containing:\n",
      "tensor([[ 0.0032,  0.0042,  0.0086,  ..., -0.0090,  0.0072, -0.0063],\n",
      "        [-0.0001, -0.0037,  0.0086,  ...,  0.0065, -0.0052,  0.0023],\n",
      "        [-0.0019, -0.0038, -0.0089,  ...,  0.0065,  0.0056,  0.0037],\n",
      "        ...,\n",
      "        [-0.0057, -0.0034, -0.0012,  ..., -0.0039, -0.0042,  0.0009],\n",
      "        [-0.0084,  0.0066,  0.0075,  ...,  0.0015, -0.0009, -0.0027],\n",
      "        [ 0.0077, -0.0034, -0.0021,  ...,  0.0039, -0.0045,  0.0026]],\n",
      "       requires_grad=True), Parameter containing:\n",
      "tensor([ 0.0058, -0.0006,  0.0046, -0.0052, -0.0023,  0.0040,  0.0003, -0.0020,\n",
      "         0.0076, -0.0033,  0.0017,  0.0021,  0.0026, -0.0061],\n",
      "       requires_grad=True), Parameter containing:\n",
      "tensor([[-0.0375, -0.0889,  0.0563, -0.2121, -0.2052, -0.0856, -0.0061, -0.0668,\n",
      "          0.0725,  0.1422,  0.2398,  0.2214, -0.0679, -0.1289]],\n",
      "       requires_grad=True), Parameter containing:\n",
      "tensor([0.1566], requires_grad=True)]\n"
     ]
    }
   ],
   "source": [
    "net = Net()\n",
    "optimizer = optim.SGD(net.parameters(), lr=0.01)\n",
    "print(net)\n",
    "print(list(net.parameters()))"
   ]
  },
  {
   "cell_type": "code",
   "execution_count": 203,
   "metadata": {},
   "outputs": [
    {
     "name": "stdout",
     "output_type": "stream",
     "text": [
      "tensor([[0., 0., 1., 0., 0., 0., 0., 1., 0., 0., 0., 1., 0., 1., 1., 0., 0., 0.,\n",
      "         0., 1., 0., 0., 0., 0., 1., 1., 0., 1., 0., 1., 0., 0., 0., 0., 0., 0.,\n",
      "         0., 0., 1., 0., 0., 1., 1., 0., 0., 0., 0., 1., 0., 0., 1., 0., 0., 0.,\n",
      "         1., 0., 1., 1., 0., 1., 1., 1., 0., 0., 0., 0., 0., 0., 1., 0., 0., 1.,\n",
      "         0., 0., 0., 0., 0., 0., 0., 0., 0., 0., 0., 1., 1., 0., 0., 0., 1., 0.,\n",
      "         0., 0., 1., 1., 1., 0., 0., 1., 0., 0., 0., 0., 1., 0., 1., 0., 1., 1.,\n",
      "         1., 1., 1., 1., 0., 0., 0., 0., 0., 1., 0., 0., 0., 1., 0., 0., 1., 0.,\n",
      "         1., 0., 1., 1., 0., 0., 0., 1., 1., 1., 1., 1., 0., 0., 0., 0., 1., 0.,\n",
      "         1., 1., 1., 0., 1., 1., 0., 0., 0., 1., 0., 0., 1., 0., 0., 0., 0., 0.,\n",
      "         1., 0., 1., 0., 1., 0., 0., 1., 1., 1., 0., 0., 1., 1., 0., 1., 0., 1.,\n",
      "         0., 0., 0., 0., 0., 1., 0., 0., 1., 0., 0., 0., 1., 0., 0., 0., 0., 1.,\n",
      "         0., 0., 1., 0., 0., 0., 0., 0., 0., 0., 0.]])\n"
     ]
    }
   ],
   "source": [
    "print(train_output_data)"
   ]
  },
  {
   "cell_type": "code",
   "execution_count": 210,
   "metadata": {},
   "outputs": [
    {
     "ename": "ValueError",
     "evalue": "only one element tensors can be converted to Python scalars",
     "output_type": "error",
     "traceback": [
      "\u001b[0;31m---------------------------------------------------------------------------\u001b[0m",
      "\u001b[0;31mValueError\u001b[0m                                Traceback (most recent call last)",
      "\u001b[0;32m<ipython-input-210-f26dee6ef539>\u001b[0m in \u001b[0;36m<module>\u001b[0;34m\u001b[0m\n\u001b[1;32m      7\u001b[0m     \u001b[0mpred_output\u001b[0m \u001b[0;34m=\u001b[0m \u001b[0mnp\u001b[0m\u001b[0;34m.\u001b[0m\u001b[0marray\u001b[0m\u001b[0;34m(\u001b[0m\u001b[0mpred_output\u001b[0m\u001b[0;34m)\u001b[0m\u001b[0;34m\u001b[0m\u001b[0;34m\u001b[0m\u001b[0m\n\u001b[1;32m      8\u001b[0m     \u001b[0mpred_output\u001b[0m \u001b[0;34m=\u001b[0m \u001b[0mVariable\u001b[0m\u001b[0;34m(\u001b[0m\u001b[0mtorch\u001b[0m\u001b[0;34m.\u001b[0m\u001b[0mfrom_numpy\u001b[0m\u001b[0;34m(\u001b[0m\u001b[0mpred_output\u001b[0m\u001b[0;34m.\u001b[0m\u001b[0mastype\u001b[0m\u001b[0;34m(\u001b[0m\u001b[0mnp\u001b[0m\u001b[0;34m.\u001b[0m\u001b[0mfloat32\u001b[0m\u001b[0;34m)\u001b[0m\u001b[0;34m)\u001b[0m\u001b[0;34m,\u001b[0m \u001b[0mrequires_grad\u001b[0m\u001b[0;34m=\u001b[0m\u001b[0;32mFalse\u001b[0m\u001b[0;34m)\u001b[0m\u001b[0;34m.\u001b[0m\u001b[0mfloat\u001b[0m\u001b[0;34m(\u001b[0m\u001b[0;34m)\u001b[0m\u001b[0;34m\u001b[0m\u001b[0;34m\u001b[0m\u001b[0m\n\u001b[0;32m----> 9\u001b[0;31m     \u001b[0mloss\u001b[0m \u001b[0;34m=\u001b[0m \u001b[0mcriterion\u001b[0m\u001b[0;34m(\u001b[0m\u001b[0mpred_output\u001b[0m\u001b[0;34m,\u001b[0m \u001b[0mtorch\u001b[0m\u001b[0;34m.\u001b[0m\u001b[0mtensor\u001b[0m\u001b[0;34m(\u001b[0m\u001b[0;34m[\u001b[0m\u001b[0mtrain_output_data\u001b[0m\u001b[0;34m[\u001b[0m\u001b[0;36m0\u001b[0m\u001b[0;34m]\u001b[0m\u001b[0;34m]\u001b[0m\u001b[0;34m)\u001b[0m\u001b[0;34m.\u001b[0m\u001b[0mlong\u001b[0m\u001b[0;34m(\u001b[0m\u001b[0;34m)\u001b[0m\u001b[0;34m)\u001b[0m\u001b[0;34m\u001b[0m\u001b[0;34m\u001b[0m\u001b[0m\n\u001b[0m\u001b[1;32m     10\u001b[0m     \u001b[0mloss\u001b[0m \u001b[0;34m=\u001b[0m \u001b[0mVariable\u001b[0m\u001b[0;34m(\u001b[0m\u001b[0mloss\u001b[0m\u001b[0;34m,\u001b[0m \u001b[0mrequires_grad\u001b[0m\u001b[0;34m=\u001b[0m\u001b[0;32mTrue\u001b[0m\u001b[0;34m)\u001b[0m\u001b[0;34m\u001b[0m\u001b[0;34m\u001b[0m\u001b[0m\n\u001b[1;32m     11\u001b[0m     \u001b[0mloss\u001b[0m\u001b[0;34m.\u001b[0m\u001b[0mbackward\u001b[0m\u001b[0;34m(\u001b[0m\u001b[0;34m)\u001b[0m\u001b[0;34m\u001b[0m\u001b[0;34m\u001b[0m\u001b[0m\n",
      "\u001b[0;31mValueError\u001b[0m: only one element tensors can be converted to Python scalars"
     ]
    }
   ],
   "source": [
    "for epoch in range(0, 5):\n",
    "    optimizer.zero_grad()\n",
    "    pred_output = []\n",
    "    for index in range(0, len(train_dataset)):\n",
    "        pred = net(train_input_data[:, index])\n",
    "        pred_output.append(np.array([1.0 - pred, pred]))\n",
    "    pred_output = np.array(pred_output)\n",
    "    pred_output = Variable(torch.from_numpy(pred_output.astype(np.float32)), requires_grad=False).float()\n",
    "    loss = criterion(pred_output, torch.tensor([train_output_data[0]]).long())\n",
    "    loss = Variable(loss, requires_grad=True)\n",
    "    loss.backward()\n",
    "    optimizer.step()\n",
    "    print(loss)"
   ]
  },
  {
   "cell_type": "code",
   "execution_count": null,
   "metadata": {},
   "outputs": [],
   "source": []
  }
 ],
 "metadata": {
  "kernelspec": {
   "display_name": "Python 3",
   "language": "python",
   "name": "python3"
  },
  "language_info": {
   "codemirror_mode": {
    "name": "ipython",
    "version": 3
   },
   "file_extension": ".py",
   "mimetype": "text/x-python",
   "name": "python",
   "nbconvert_exporter": "python",
   "pygments_lexer": "ipython3",
   "version": "3.7.4"
  }
 },
 "nbformat": 4,
 "nbformat_minor": 2
}
