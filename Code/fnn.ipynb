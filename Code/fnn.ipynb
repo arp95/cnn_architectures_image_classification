{
 "cells": [
  {
   "cell_type": "code",
   "execution_count": 78,
   "metadata": {},
   "outputs": [],
   "source": [
    "# header files\n",
    "import numpy as np\n",
    "import torch\n",
    "import h5py\n",
    "from torch.utils import data\n",
    "from pathlib import Path"
   ]
  },
  {
   "cell_type": "code",
   "execution_count": 82,
   "metadata": {},
   "outputs": [],
   "source": [
    "# ImageClassifier Dataset class\n",
    "class ImageClassifierDataset(data.Dataset):\n",
    "    # init function\n",
    "    def __init__(self, file, data_category):\n",
    "        self.file = file\n",
    "        self.file_dataset = h5py.File(self.file, 'r')\n",
    "        \n",
    "        # get input and output data\n",
    "        self.file_input_orig = np.array(self.file_dataset[str(data_category) + '_set_x'])\n",
    "        self.file_output_orig = np.array(self.file_dataset[str(data_category) + '_set_y'])\n",
    "        self.file_output = self.file_output_orig.reshape(1, self.file_output_orig.shape[0])\n",
    "        self.file_input = (self.file_input_orig.reshape(self.file_input_orig.shape[0], -1).T) / 255.\n",
    "        #self.classes = np.array(test_dataset[\"list_classes\"][:])\n",
    "    \n",
    "    # length of array for training and testing\n",
    "    def __len__(self):\n",
    "        return len(self.file_input[0])\n",
    "    \n",
    "    # individual array element for training and testing\n",
    "    def __getitem__(self, idx):\n",
    "        return (self.file_input[:, idx], self.file_output[0, idx])"
   ]
  },
  {
   "cell_type": "code",
   "execution_count": 83,
   "metadata": {},
   "outputs": [],
   "source": [
    "# get training and testing data\n",
    "train_file=\"data/train_catvnoncat.h5\"\n",
    "test_file=\"data/test_catvnoncat.h5\"\n",
    "train_dataset = ImageClassifierDataset(train_file, \"train\")\n",
    "test_dataset = ImageClassifierDataset(test_file, \"test\")"
   ]
  },
  {
   "cell_type": "code",
   "execution_count": null,
   "metadata": {},
   "outputs": [],
   "source": []
  }
 ],
 "metadata": {
  "kernelspec": {
   "display_name": "Python 3",
   "language": "python",
   "name": "python3"
  },
  "language_info": {
   "codemirror_mode": {
    "name": "ipython",
    "version": 3
   },
   "file_extension": ".py",
   "mimetype": "text/x-python",
   "name": "python",
   "nbconvert_exporter": "python",
   "pygments_lexer": "ipython3",
   "version": "3.7.4"
  }
 },
 "nbformat": 4,
 "nbformat_minor": 2
}
