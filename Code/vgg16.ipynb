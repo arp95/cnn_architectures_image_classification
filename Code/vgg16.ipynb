{
 "cells": [
  {
   "cell_type": "code",
   "execution_count": 1,
   "metadata": {},
   "outputs": [],
   "source": [
    "# header files\n",
    "import numpy as np\n",
    "import torch\n",
    "import torch.nn as nn\n",
    "import torch.optim\n",
    "import torch.utils.data\n",
    "import torchvision.transforms as transforms\n",
    "import torchvision.datasets as datasets"
   ]
  },
  {
   "cell_type": "code",
   "execution_count": 2,
   "metadata": {},
   "outputs": [
    {
     "name": "stdout",
     "output_type": "stream",
     "text": [
      "Files already downloaded and verified\n"
     ]
    }
   ],
   "source": [
    "# load cifar-10 data\n",
    "normalize = transforms.Normalize(mean=[0.485, 0.456, 0.406], std=[0.229, 0.224, 0.225])\n",
    "\n",
    "train_loader = torch.utils.data.DataLoader(datasets.CIFAR10(root=\"./data\", train=True, transform=transforms.Compose([\n",
    "                                            transforms.RandomHorizontalFlip(),\n",
    "                                            transforms.RandomCrop(32, 4),\n",
    "                                            transforms.ToTensor(),\n",
    "                                            normalize,\n",
    "                                            ]), download = True)\n",
    "                                           , batch_size=128, shuffle=True, num_workers=4, pin_memory=True)\n",
    "\n",
    "val_loader = torch.utils.data.DataLoader(datasets.CIFAR10(root=\"./data\", train=False, transform=transforms.Compose([\n",
    "                                            transforms.ToTensor(),\n",
    "                                            normalize,\n",
    "                                            ])), batch_size=128, shuffle=False, num_workers=4, pin_memory=True)"
   ]
  },
  {
   "cell_type": "code",
   "execution_count": 3,
   "metadata": {},
   "outputs": [
    {
     "name": "stdout",
     "output_type": "stream",
     "text": [
      "tensor([[[ 0.5364,  0.5364,  0.5364,  ...,  0.6392,  0.6734,  0.6734],\n",
      "         [ 0.5707,  0.5536,  0.5536,  ...,  0.6392,  0.6734,  0.6906],\n",
      "         [ 0.6221,  0.6049,  0.6049,  ...,  0.6392,  0.6563,  0.7248],\n",
      "         ...,\n",
      "         [-2.1179, -2.1179, -2.1179,  ..., -2.1179, -2.1179, -2.1179],\n",
      "         [-2.1179, -2.1179, -2.1179,  ..., -2.1179, -2.1179, -2.1179],\n",
      "         [-2.1179, -2.1179, -2.1179,  ..., -2.1179, -2.1179, -2.1179]],\n",
      "\n",
      "        [[ 1.9209,  1.9034,  1.9209,  ...,  1.9209,  1.9559,  1.9734],\n",
      "         [ 1.9384,  1.9209,  1.9209,  ...,  1.9734,  1.9734,  1.9909],\n",
      "         [ 1.9559,  1.9209,  1.9209,  ...,  2.0084,  1.9909,  2.0259],\n",
      "         ...,\n",
      "         [-2.0357, -2.0357, -2.0357,  ..., -2.0357, -2.0357, -2.0357],\n",
      "         [-2.0357, -2.0357, -2.0357,  ..., -2.0357, -2.0357, -2.0357],\n",
      "         [-2.0357, -2.0357, -2.0357,  ..., -2.0357, -2.0357, -2.0357]],\n",
      "\n",
      "        [[ 2.6400,  2.6400,  2.6400,  ...,  2.6400,  2.6226,  2.6051],\n",
      "         [ 2.6400,  2.6226,  2.6226,  ...,  2.6226,  2.5877,  2.5703],\n",
      "         [ 2.6400,  2.6051,  2.6051,  ...,  2.6051,  2.5529,  2.5529],\n",
      "         ...,\n",
      "         [-1.8044, -1.8044, -1.8044,  ..., -1.8044, -1.8044, -1.8044],\n",
      "         [-1.8044, -1.8044, -1.8044,  ..., -1.8044, -1.8044, -1.8044],\n",
      "         [-1.8044, -1.8044, -1.8044,  ..., -1.8044, -1.8044, -1.8044]]])\n"
     ]
    }
   ],
   "source": [
    "# analyse data\n",
    "data = iter(train_loader)\n",
    "image = data.next()\n",
    "print(image[0][0])"
   ]
  },
  {
   "cell_type": "code",
   "execution_count": 4,
   "metadata": {},
   "outputs": [],
   "source": [
    "# define loss for network\n",
    "criterion = nn.CrossEntropyLoss()"
   ]
  },
  {
   "cell_type": "code",
   "execution_count": 5,
   "metadata": {},
   "outputs": [],
   "source": [
    "# define VGG16 network\n",
    "class VGG16(nn.Module):\n",
    "    \n",
    "    # init method\n",
    "    def __init__(self, num_classes = 10):\n",
    "        super(VGG16, self).__init__()\n",
    "        \n",
    "        self.features = nn.Sequential(\n",
    "            \n",
    "            # first cnn block\n",
    "            nn.Conv2d(3, 64, kernel_size=3, padding=1),\n",
    "            nn.ReLU(inplace=True),\n",
    "            nn.Conv2d(64, 64, kernel_size=3, padding=1),\n",
    "            nn.ReLU(inplace=True),\n",
    "            nn.MaxPool2d(kernel_size=2, stride=2),\n",
    "            \n",
    "            # second cnn block\n",
    "            nn.Conv2d(64, 128, kernel_size=3, padding=1),\n",
    "            nn.ReLU(inplace=True),\n",
    "            nn.Conv2d(128, 128, kernel_size=3, padding=1),\n",
    "            nn.ReLU(inplace=True),\n",
    "            nn.MaxPool2d(kernel_size=2, stride=2),\n",
    "            \n",
    "            # third cnn block\n",
    "            nn.Conv2d(128, 256, kernel_size=3, padding=1),\n",
    "            nn.ReLU(inplace=True),\n",
    "            nn.Conv2d(256, 256, kernel_size=3, padding=1),\n",
    "            nn.ReLU(inplace=True),\n",
    "            nn.Conv2d(256, 256, kernel_size=3, padding=1),\n",
    "            nn.ReLU(inplace=True),\n",
    "            nn.MaxPool2d(kernel_size=2, stride=2),\n",
    "            \n",
    "            # fourth cnn block\n",
    "            nn.Conv2d(256, 512, kernel_size=3, padding=1),\n",
    "            nn.ReLU(inplace=True),\n",
    "            nn.Conv2d(512, 512, kernel_size=3, padding=1),\n",
    "            nn.ReLU(inplace=True),\n",
    "            nn.Conv2d(512, 512, kernel_size=3, padding=1),\n",
    "            nn.ReLU(inplace=True),\n",
    "            nn.MaxPool2d(kernel_size=2, stride=2),\n",
    "            \n",
    "            # fifth cnn block\n",
    "            nn.Conv2d(512, 512, kernel_size=3, padding=1),\n",
    "            nn.ReLU(inplace=True),\n",
    "            nn.Conv2d(512, 512, kernel_size=3, padding=1),\n",
    "            nn.ReLU(inplace=True),\n",
    "            nn.Conv2d(512, 512, kernel_size=3, padding=1),\n",
    "            nn.ReLU(inplace=True),\n",
    "            nn.MaxPool2d(kernel_size=2, stride=2)\n",
    "        )\n",
    "        \n",
    "        #self.avgpool = nn.AdaptiveAvgPool2d((7, 7))\n",
    "        \n",
    "        self.classifier = nn.Sequential(\n",
    "            nn.Dropout(),\n",
    "            nn.Linear(512, 512),\n",
    "            nn.ReLU(inplace=True),\n",
    "            nn.Dropout(),\n",
    "            nn.Linear(512, 512),\n",
    "            nn.ReLU(inplace=True),\n",
    "            nn.Dropout(),\n",
    "            nn.Linear(512, num_classes)\n",
    "        )\n",
    "        \n",
    "    \n",
    "    # forward step\n",
    "    def forward(self, x):\n",
    "        x = self.features(x)\n",
    "        x = x.view(x.size(0), -1)\n",
    "        x = self.classifier(x)\n",
    "        return x"
   ]
  },
  {
   "cell_type": "code",
   "execution_count": 6,
   "metadata": {},
   "outputs": [],
   "source": [
    "model = VGG16()"
   ]
  },
  {
   "cell_type": "code",
   "execution_count": 7,
   "metadata": {},
   "outputs": [],
   "source": [
    "# optimizer to be used\n",
    "optimizer = torch.optim.SGD(model.parameters(), lr=0.05, momentum=0.9, weight_decay=5e-4)"
   ]
  },
  {
   "cell_type": "code",
   "execution_count": 8,
   "metadata": {},
   "outputs": [
    {
     "name": "stdout",
     "output_type": "stream",
     "text": [
      "Training loss: 2.30617158325    Validation loss: 2.32938701782\n",
      "()\n",
      "Training loss: 2.30601085571    Validation loss: 2.32924762573\n",
      "()\n",
      "Training loss: 2.30589680115    Validation loss: 2.32894863281\n",
      "()\n",
      "Training loss: 2.30568252441    Validation loss: 2.32919759216\n",
      "()\n",
      "Training loss: 2.30585125366    Validation loss: 2.32944734497\n",
      "()\n",
      "Training loss: 2.3056326178    Validation loss: 2.3289\n",
      "()\n",
      "Training loss: 2.30576660706    Validation loss: 2.32881203613\n",
      "()\n",
      "Training loss: 2.30568395142    Validation loss: 2.32914135437\n",
      "()\n",
      "Training loss: 2.30558817627    Validation loss: 2.32905328979\n",
      "()\n",
      "Training loss: 2.30564895264    Validation loss: 2.32954781494\n",
      "()\n"
     ]
    }
   ],
   "source": [
    "# train and validate\n",
    "for epoch in range(0, 10):\n",
    "    \n",
    "    # train\n",
    "    model.train()\n",
    "    training_loss = 0.0\n",
    "    for i, (input, target) in enumerate(train_loader):\n",
    "        \n",
    "        output = model(input)\n",
    "        loss = criterion(output, target)\n",
    "        \n",
    "        optimizer.zero_grad()\n",
    "        loss.backward()\n",
    "        optimizer.step()\n",
    "        \n",
    "        training_loss = training_loss + (loss.item() * 128)\n",
    "    training_loss = training_loss / len(train_loader.sampler)\n",
    "    \n",
    "    # validate\n",
    "    model.eval()\n",
    "    valid_loss = 0.0\n",
    "    for i, (input, target) in enumerate(val_loader):\n",
    "        \n",
    "        with torch.no_grad():\n",
    "            output = model(input)\n",
    "            loss = criterion(output, target)\n",
    "            \n",
    "        valid_loss = valid_loss + (loss.item() * 128)\n",
    "    valid_loss = valid_loss / len(val_loader.sampler)\n",
    "    \n",
    "    print(\"Training loss: \" + str(training_loss) + \"    Validation loss: \" + str(valid_loss))\n",
    "    print()"
   ]
  },
  {
   "cell_type": "code",
   "execution_count": null,
   "metadata": {},
   "outputs": [],
   "source": []
  }
 ],
 "metadata": {
  "kernelspec": {
   "display_name": "Python 3",
   "language": "python",
   "name": "python3"
  },
  "language_info": {
   "codemirror_mode": {
    "name": "ipython",
    "version": 2
   },
   "file_extension": ".py",
   "mimetype": "text/x-python",
   "name": "python",
   "nbconvert_exporter": "python",
   "pygments_lexer": "ipython2",
   "version": "2.7.12"
  }
 },
 "nbformat": 4,
 "nbformat_minor": 2
}
