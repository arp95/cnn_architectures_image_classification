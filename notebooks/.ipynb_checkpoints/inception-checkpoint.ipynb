{
 "cells": [
  {
   "cell_type": "code",
   "execution_count": 1,
   "metadata": {},
   "outputs": [],
   "source": [
    "import torch\n",
    "import torchvision\n",
    "import numpy as np\n",
    "import cv2"
   ]
  },
  {
   "cell_type": "code",
   "execution_count": 2,
   "metadata": {},
   "outputs": [],
   "source": [
    "# define transforms\n",
    "train_transforms = torchvision.transforms.Compose([torchvision.transforms.RandomRotation(30),\n",
    "                                                   torchvision.transforms.RandomRotation(20),\n",
    "                                                   torchvision.transforms.RandomRotation(10),\n",
    "                                                   torchvision.transforms.RandomResizedCrop(224),\n",
    "                                                   torchvision.transforms.RandomHorizontalFlip(),\n",
    "                                                   torchvision.transforms.ToTensor(),\n",
    "                                                   torchvision.transforms.Normalize([0.485, 0.456, 0.406], [0.229, 0.224, 0.225])])"
   ]
  },
  {
   "cell_type": "code",
   "execution_count": null,
   "metadata": {},
   "outputs": [],
   "source": [
    "from google.colab import drive\n",
    "drive.mount('/content/drive')"
   ]
  },
  {
   "cell_type": "code",
   "execution_count": null,
   "metadata": {},
   "outputs": [],
   "source": [
    "# datasets\n",
    "train_data = datasets.ImageFolder(\"/content/drive/My Drive/train_images/\", transform=train_transforms)\n",
    "val_data = datasets.ImageFolder(\"/content/drive/My Drive/val_images/\", transform=train_transforms)\n",
    "print(len(train_data))\n",
    "print(len(val_data))"
   ]
  },
  {
   "cell_type": "code",
   "execution_count": null,
   "metadata": {},
   "outputs": [],
   "source": [
    "# load the data\n",
    "train_loader = torch.utils.data.DataLoader(train_data, batch_size=32, shuffle=True, num_workers=16, pin_memory=True)\n",
    "val_loader = torch.utils.data.DataLoader(val_data, batch_size=32, shuffle=True, num_workers=16, pin_memory=True)"
   ]
  },
  {
   "cell_type": "code",
   "execution_count": null,
   "metadata": {},
   "outputs": [],
   "source": [
    "# define loss for two-class problem\n",
    "criterion = torch.nn.NLLLoss()"
   ]
  },
  {
   "cell_type": "code",
   "execution_count": null,
   "metadata": {},
   "outputs": [],
   "source": [
    "# define inception block\n",
    "def inception_block(input_channels, filters):\n",
    "    \n",
    "    # first block\n",
    "    torch.nn.Conv2d(input_channels, 64, kernel_size=1)\n",
    "    torch.nn.BatchNorm2d(64)\n",
    "    torch.nn.ReLU(inplace=True)\n",
    "    \n",
    "    # second block\n",
    "    torch.nn.Conv2d(input_channels, 64, kernel_size=1)\n",
    "    torch.nn.BatchNorm2d(64)\n",
    "    torch.nn.ReLU(inplace=True)\n",
    "    torch.nn.Conv2d(64, 96, kernel_size=3, padding=1)\n",
    "    torch.nn.BatchNorm2d(96)\n",
    "    torch.nn.ReLU(inplace=True)\n",
    "    \n",
    "    # third block\n",
    "    torch.nn.Conv2d(input_channels, 48, kernel_size=1)\n",
    "    torch.nn.BatchNorm2d(48)\n",
    "    torch.nn.ReLU(inplace=True)\n",
    "    torch.nn.Conv2d(48, 64, kernel_size=5, padding=2)\n",
    "    torch.nn.BatchNorm2d(64)\n",
    "    torch.nn.ReLU(inplace=True)\n",
    "    \n",
    "    # fourth block\n",
    "    torch.nn.MaxPool2d(kernel_size=3, stride=1, padding=2)\n",
    "    torch.nn.Conv2d(input_channels, 64, kernel_size=1)\n",
    "    torch.nn.BatchNorm2d(64)\n",
    "    torch.nn.ReLU(inplace=True)\n",
    "    \n",
    "    \n",
    "# define main class\n",
    "class Inception(torch.nn.Module):\n",
    "    \n",
    "    # init function\n",
    "    def __init__(self, num_classes = 2):\n",
    "        super(Inception, self).__init__()\n",
    "        \n",
    "        self.features = torch.nn.Sequential(\n",
    "            \n",
    "            # first block\n",
    "            torch.nn.Conv2d(3, 64, kernel_size=7, stride=2, padding=3),\n",
    "            torch.nn.BatchNorm2d(64),\n",
    "            torch.nn.ReLU(inplace=True),\n",
    "            torch.nn.MaxPool2d(kernel_size=3, stride=2, padding=1),\n",
    "                        \n",
    "            # second block\n",
    "            torch.nn.Conv2d(64, 64, kernel_size=1),\n",
    "            torch.nn.BatchNorm2d(64),\n",
    "            torch.nn.ReLU(inplace=True),\n",
    "            torch.nn.Conv2d(64, 192, kernel_size=3),\n",
    "            torch.nn.BatchNorm2d(192),\n",
    "            torch.nn.ReLU(inplace=True),\n",
    "            torch.nn.MaxPool2d(kernel_size=3, stride=2, padding=1),\n",
    "            \n",
    "            # third block ()\n",
    "            \n",
    "        )"
   ]
  },
  {
   "cell_type": "code",
   "execution_count": null,
   "metadata": {},
   "outputs": [],
   "source": []
  }
 ],
 "metadata": {
  "kernelspec": {
   "display_name": "Python 3",
   "language": "python",
   "name": "python3"
  },
  "language_info": {
   "codemirror_mode": {
    "name": "ipython",
    "version": 2
   },
   "file_extension": ".py",
   "mimetype": "text/x-python",
   "name": "python",
   "nbconvert_exporter": "python",
   "pygments_lexer": "ipython2",
   "version": "2.7.12"
  }
 },
 "nbformat": 4,
 "nbformat_minor": 2
}
