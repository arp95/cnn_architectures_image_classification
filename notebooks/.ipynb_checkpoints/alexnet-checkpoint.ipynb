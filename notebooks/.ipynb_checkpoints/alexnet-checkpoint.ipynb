{
 "cells": [
  {
   "cell_type": "code",
   "execution_count": 1,
   "metadata": {},
   "outputs": [],
   "source": [
    "# header files needed\n",
    "import numpy as np\n",
    "import torch\n",
    "import torch.nn as nn\n",
    "import torchvision\n",
    "from torch.utils.tensorboard import SummaryWriter"
   ]
  },
  {
   "cell_type": "code",
   "execution_count": null,
   "metadata": {},
   "outputs": [],
   "source": [
    "from google.colab import drive\n",
    "drive.mount('/content/drive')"
   ]
  },
  {
   "cell_type": "code",
   "execution_count": 2,
   "metadata": {},
   "outputs": [],
   "source": [
    "np.random.seed(1234)\n",
    "torch.manual_seed(1234)\n",
    "torch.cuda.manual_seed(1234)"
   ]
  },
  {
   "cell_type": "code",
   "execution_count": null,
   "metadata": {},
   "outputs": [],
   "source": [
    "# define transforms\n",
    "train_transforms = torchvision.transforms.Compose([torchvision.transforms.RandomRotation(30),\n",
    "                                       torchvision.transforms.Resize((224, 224)),\n",
    "                                       torchvision.transforms.RandomHorizontalFlip(),\n",
    "                                       torchvision.transforms.ToTensor(),\n",
    "                                       torchvision.transforms.Normalize([0.485, 0.456, 0.406], [0.229, 0.224, 0.225])])"
   ]
  },
  {
   "cell_type": "code",
   "execution_count": null,
   "metadata": {},
   "outputs": [],
   "source": [
    "# load datasets\n",
    "train_data = torchvision.datasets.ImageFolder(\"/content/drive/My Drive/train_images/\", transform=train_transforms)\n",
    "val_data = torchvision.datasets.ImageFolder(\"/content/drive/My Drive/val_images/\", transform=train_transforms)\n",
    "print(len(train_data))\n",
    "print(len(val_data))"
   ]
  },
  {
   "cell_type": "code",
   "execution_count": null,
   "metadata": {},
   "outputs": [],
   "source": [
    "# loaders\n",
    "train_loader = torch.utils.data.DataLoader(train_data, batch_size=64, shuffle=True, num_workers=16)\n",
    "val_loader = torch.utils.data.DataLoader(val_data, batch_size=64, shuffle=False, num_workers=16)"
   ]
  },
  {
   "cell_type": "code",
   "execution_count": null,
   "metadata": {},
   "outputs": [],
   "source": [
    "# define alexnet architecture\n",
    "class AlexNet(torch.nn.Module):\n",
    "    \n",
    "    # init function\n",
    "    def __init__(self, num_classes = 2):\n",
    "        super(AlexNet, self).__init__()\n",
    "        \n",
    "        self.features = torch.nn.Sequential(\n",
    "            torch.nn.Conv2d(3, 64, kernel_size=11, padding=2, stride=4),\n",
    "            torch.nn.BatchNorm2d(64),\n",
    "            torch.nn.ReLU(inplace=True),\n",
    "            torch.nn.MaxPool2d(kernel_size=3, stride=2),\n",
    "            torch.nn.Conv2d(64, 192, kernel_size=5, padding=2),\n",
    "            torch.nn.BatchNorm2d(192),\n",
    "            torch.nn.ReLU(inplace=True),\n",
    "            torch.nn.MaxPool2d(kernel_size=3, stride=2),\n",
    "            torch.nn.Conv2d(192, 384, kernel_size=3, padding=1),\n",
    "            torch.nn.BatchNorm2d(384),\n",
    "            torch.nn.ReLU(inplace=True),\n",
    "            torch.nn.Conv2d(384, 256, kernel_size=3, padding=1),\n",
    "            torch.nn.BatchNorm2d(256),\n",
    "            torch.nn.ReLU(inplace=True),\n",
    "            torch.nn.Conv2d(256, 256, kernel_size=3, padding=1),\n",
    "            torch.nn.BatchNorm2d(256),\n",
    "            torch.nn.ReLU(inplace=True),\n",
    "            torch.nn.MaxPool2d(kernel_size=3, stride=2)\n",
    "        )\n",
    "        \n",
    "        self.avgpool = torch.nn.AdaptiveAvgPool2d((6, 6))\n",
    "        \n",
    "        self.classifier = torch.nn.Sequential(\n",
    "            torch.nn.Dropout(),\n",
    "            torch.nn.Linear(256*6*6, 4096),\n",
    "            torch.nn.ReLU(inplace=True),\n",
    "            torch.nn.Dropout(),\n",
    "            torch.nn.Linear(4096, 4096),\n",
    "            torch.nn.ReLU(inplace=True),\n",
    "            torch.nn.Linear(4096, num_classes)\n",
    "        )\n",
    "        \n",
    "    # forward propagation step\n",
    "    def forward(self, x):\n",
    "        x = self.features(x)\n",
    "        x = self.avgpool(x)\n",
    "        x = torch.flatten(x, 1)\n",
    "        x = self.classifier(x)\n",
    "        return x"
   ]
  },
  {
   "cell_type": "code",
   "execution_count": null,
   "metadata": {},
   "outputs": [],
   "source": [
    "# define loss for two-class problem\n",
    "criterion = torch.nn.CrossEntropyLoss()"
   ]
  },
  {
   "cell_type": "code",
   "execution_count": null,
   "metadata": {},
   "outputs": [],
   "source": [
    "# load model\n",
    "device = torch.device(\"cuda\" if torch.cuda.is_available() else \"cpu\")\n",
    "model = AlexNet()\n",
    "model.to(device)\n",
    "\n",
    "# load tensorboard\n",
    "%load_ext tensorboard\n",
    "%tensorboard --logdir logs"
   ]
  },
  {
   "cell_type": "code",
   "execution_count": null,
   "metadata": {},
   "outputs": [],
   "source": [
    "# define optimizer \n",
    "optimizer = torch.optim.SGD(model.parameters(), lr=0.005, momentum=0.9, weight_decay=0.001)"
   ]
  },
  {
   "cell_type": "code",
   "execution_count": null,
   "metadata": {},
   "outputs": [],
   "source": [
    "best_metric = -1\n",
    "best_metric_epoch = -1\n",
    "writer = SummaryWriter(\"./logs/\")\n",
    "writer.flush()\n",
    "\n",
    "# train and validate\n",
    "for epoch in range(0, 100):\n",
    "    \n",
    "    # train\n",
    "    model.train()\n",
    "    training_loss = 0.0\n",
    "    total = 0\n",
    "    correct = 0\n",
    "    for i, (input, target) in enumerate(train_loader):\n",
    "        input = input.to(device)\n",
    "        target = target.to(device)\n",
    "\n",
    "        optimizer.zero_grad()\n",
    "        output = model(input)\n",
    "        loss = criterion(output, target)\n",
    "        \n",
    "        loss.backward()\n",
    "        optimizer.step()\n",
    "        \n",
    "        training_loss = training_loss + loss.item()\n",
    "        _, predicted = output.max(1)\n",
    "        total += target.size(0)\n",
    "        correct += predicted.eq(target).sum().item()\n",
    "        \n",
    "    training_loss = training_loss/float(len(train_loader))\n",
    "    training_accuracy = str(100.0*(float(correct)/float(total)))\n",
    "    writer.add_scalar(\"Loss/train\", float(training_loss), epoch)\n",
    "    writer.add_scalar(\"Accuracy/train\", float(training_accuracy), epoch)\n",
    "    \n",
    "    # validate\n",
    "    model.eval()\n",
    "    valid_loss = 0.0\n",
    "    total = 0\n",
    "    correct = 0\n",
    "    for i, (input, target) in enumerate(val_loader):\n",
    "        with torch.no_grad():\n",
    "            input = input.to(device)\n",
    "            target = target.to(device)\n",
    "\n",
    "            output = model(input)\n",
    "            loss = criterion(output, target)\n",
    "            _, predicted = output.max(1)\n",
    "            total += target.size(0)\n",
    "            correct += predicted.eq(target).sum().item()\n",
    "            \n",
    "        valid_loss = valid_loss + loss.item()\n",
    "    valid_loss = valid_loss/float(len(val_loader))\n",
    "    valid_accuracy = str(100.0*(float(correct)/float(total)))\n",
    "    writer.add_scalar(\"Loss/val\", float(valid_loss), epoch)\n",
    "    writer.add_scalar(\"Accuracy/val\", float(valid_accuracy), epoch)\n",
    "\n",
    "\n",
    "    # store best model\n",
    "    if(float(valid_accuracy)>best_metric and epoch>=30):\n",
    "      best_metric = float(valid_accuracy)\n",
    "      best_metric_epoch = epoch\n",
    "      torch.save(model.state_dict(), \"best_model_alexnet.pth\")\n",
    "    \n",
    "    print()\n",
    "    print(\"Epoch\" + str(epoch) + \":\")\n",
    "    print(\"Training Accuracy: \" + str(training_accuracy) + \"    Validation Accuracy: \" + str(valid_accuracy))\n",
    "    print(\"Training Loss: \" + str(training_loss) + \"    Validation Loss: \" + str(valid_loss))\n",
    "    print()\n",
    "    \n",
    "# close tensorboard writer\n",
    "writer.flush()\n",
    "writer.close()"
   ]
  },
  {
   "cell_type": "code",
   "execution_count": null,
   "metadata": {},
   "outputs": [],
   "source": []
  }
 ],
 "metadata": {
  "kernelspec": {
   "display_name": "Python 3",
   "language": "python",
   "name": "python3"
  },
  "language_info": {
   "codemirror_mode": {
    "name": "ipython",
    "version": 3
   },
   "file_extension": ".py",
   "mimetype": "text/x-python",
   "name": "python",
   "nbconvert_exporter": "python",
   "pygments_lexer": "ipython3",
   "version": "3.7.6"
  }
 },
 "nbformat": 4,
 "nbformat_minor": 2
}
