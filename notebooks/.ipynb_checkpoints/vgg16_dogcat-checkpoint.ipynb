{
 "cells": [
  {
   "cell_type": "code",
   "execution_count": 0,
   "metadata": {
    "colab": {},
    "colab_type": "code",
    "id": "jcQgHWeVkLGe"
   },
   "outputs": [],
   "source": [
    "# header files\n",
    "import numpy as np\n",
    "import torch\n",
    "import torch.nn as nn\n",
    "import torch.optim\n",
    "import torch.utils.data\n",
    "import torchvision.transforms as transforms\n",
    "import torchvision.datasets as datasets\n",
    "from torch.utils.data import Dataset\n",
    "import cv2\n",
    "import glob\n",
    "from torch.autograd import Variable\n",
    "import torchvision.models as models"
   ]
  },
  {
   "cell_type": "code",
   "execution_count": 2,
   "metadata": {
    "colab": {
     "base_uri": "https://localhost:8080/",
     "height": 122
    },
    "colab_type": "code",
    "id": "Ug8QCuVzkMzF",
    "outputId": "fbc79500-8249-467b-dcb8-9f2d5e39347f"
   },
   "outputs": [
    {
     "name": "stdout",
     "output_type": "stream",
     "text": [
      "Go to this URL in a browser: https://accounts.google.com/o/oauth2/auth?client_id=947318989803-6bn6qk8qdgf4n4g3pfee6491hc0brc4i.apps.googleusercontent.com&redirect_uri=urn%3aietf%3awg%3aoauth%3a2.0%3aoob&response_type=code&scope=email%20https%3a%2f%2fwww.googleapis.com%2fauth%2fdocs.test%20https%3a%2f%2fwww.googleapis.com%2fauth%2fdrive%20https%3a%2f%2fwww.googleapis.com%2fauth%2fdrive.photos.readonly%20https%3a%2f%2fwww.googleapis.com%2fauth%2fpeopleapi.readonly\n",
      "\n",
      "Enter your authorization code:\n",
      "··········\n",
      "Mounted at /content/drive\n"
     ]
    }
   ],
   "source": [
    "from google.colab import drive\n",
    "drive.mount('/content/drive')"
   ]
  },
  {
   "cell_type": "code",
   "execution_count": 2,
   "metadata": {
    "colab": {
     "base_uri": "https://localhost:8080/",
     "height": 51
    },
    "colab_type": "code",
    "id": "s6k2CMBikO3M",
    "outputId": "9bb4884f-f495-476e-c684-0a11494667cf"
   },
   "outputs": [
    {
     "name": "stdout",
     "output_type": "stream",
     "text": [
      "18852\n",
      "6148\n"
     ]
    }
   ],
   "source": [
    "train_transforms = transforms.Compose([transforms.RandomRotation(30),\n",
    "                                       transforms.RandomResizedCrop(224),\n",
    "                                       transforms.RandomHorizontalFlip(),\n",
    "                                       transforms.ToTensor(),\n",
    "                                       transforms.Normalize([0.485, 0.456, 0.406],\n",
    "                                                            [0.229, 0.224, 0.225])])\n",
    "\n",
    "test_transforms = transforms.Compose([transforms.Resize(255),\n",
    "                                      transforms.CenterCrop(224),\n",
    "                                      transforms.ToTensor(),\n",
    "                                      transforms.Normalize([0.485, 0.456, 0.406],\n",
    "                                                           [0.229, 0.224, 0.225])])\n",
    "\n",
    "train_data = datasets.ImageFolder(\"/content/drive/My Drive/train_images/\", transform=train_transforms)\n",
    "val_data = datasets.ImageFolder(\"/content/drive/My Drive/val_images/\", transform=train_transforms)\n",
    "print(len(train_data))\n",
    "print(len(val_data))"
   ]
  },
  {
   "cell_type": "code",
   "execution_count": 0,
   "metadata": {
    "colab": {},
    "colab_type": "code",
    "id": "wJWd4xdSkbSU"
   },
   "outputs": [],
   "source": [
    "# loaders\n",
    "train_loader = torch.utils.data.DataLoader(train_data, batch_size=64, shuffle=True, num_workers=16, pin_memory=True)\n",
    "val_loader = torch.utils.data.DataLoader(val_data, batch_size=64, shuffle=True, num_workers=16, pin_memory=True)"
   ]
  },
  {
   "cell_type": "code",
   "execution_count": 0,
   "metadata": {
    "colab": {},
    "colab_type": "code",
    "id": "1GmG54Uik8-J"
   },
   "outputs": [],
   "source": [
    "# define VGG16 network\n",
    "class VGG16(nn.Module):\n",
    "    \n",
    "    # init method\n",
    "    def __init__(self, num_classes = 2):\n",
    "        super(VGG16, self).__init__()\n",
    "        \n",
    "        self.features = nn.Sequential(\n",
    "            \n",
    "            # first cnn block\n",
    "            nn.Conv2d(3, 64, kernel_size=3, padding=1),\n",
    "            nn.BatchNorm2d(64),\n",
    "            nn.ReLU(inplace=True),\n",
    "            nn.Conv2d(64, 64, kernel_size=3, padding=1),\n",
    "            nn.BatchNorm2d(64),\n",
    "            nn.ReLU(inplace=True),\n",
    "            nn.MaxPool2d(kernel_size=2, stride=2),\n",
    "            \n",
    "            # second cnn block\n",
    "            nn.Conv2d(64, 128, kernel_size=3, padding=1),\n",
    "            nn.BatchNorm2d(128),\n",
    "            nn.ReLU(inplace=True),\n",
    "            nn.Conv2d(128, 128, kernel_size=3, padding=1),\n",
    "            nn.BatchNorm2d(128),\n",
    "            nn.ReLU(inplace=True),\n",
    "            nn.MaxPool2d(kernel_size=2, stride=2),\n",
    "            \n",
    "            # third cnn block\n",
    "            nn.Conv2d(128, 256, kernel_size=3, padding=1),\n",
    "            nn.BatchNorm2d(256),\n",
    "            nn.ReLU(inplace=True),\n",
    "            nn.Conv2d(256, 256, kernel_size=3, padding=1),\n",
    "            nn.BatchNorm2d(256),\n",
    "            nn.ReLU(inplace=True),\n",
    "            nn.Conv2d(256, 256, kernel_size=3, padding=1),\n",
    "            nn.BatchNorm2d(256),\n",
    "            nn.ReLU(inplace=True),\n",
    "            nn.MaxPool2d(kernel_size=2, stride=2),\n",
    "            \n",
    "            # fourth cnn block\n",
    "            nn.Conv2d(256, 512, kernel_size=3, padding=1),\n",
    "            nn.BatchNorm2d(512),\n",
    "            nn.ReLU(inplace=True),\n",
    "            nn.Conv2d(512, 512, kernel_size=3, padding=1),\n",
    "            nn.BatchNorm2d(512),\n",
    "            nn.ReLU(inplace=True),\n",
    "            nn.Conv2d(512, 512, kernel_size=3, padding=1),\n",
    "            nn.BatchNorm2d(512),\n",
    "            nn.ReLU(inplace=True),\n",
    "            nn.MaxPool2d(kernel_size=2, stride=2),\n",
    "            \n",
    "            # fifth cnn block\n",
    "            nn.Conv2d(512, 512, kernel_size=3, padding=1),\n",
    "            nn.BatchNorm2d(512),\n",
    "            nn.ReLU(inplace=True),\n",
    "            nn.Conv2d(512, 512, kernel_size=3, padding=1),\n",
    "            nn.BatchNorm2d(512),\n",
    "            nn.ReLU(inplace=True),\n",
    "            nn.Conv2d(512, 512, kernel_size=3, padding=1),\n",
    "            nn.BatchNorm2d(512),\n",
    "            nn.ReLU(inplace=True),\n",
    "            nn.MaxPool2d(kernel_size=2, stride=2)\n",
    "        )\n",
    "        \n",
    "        self.avgpool = nn.AdaptiveAvgPool2d(7)\n",
    "        \n",
    "        self.classifier = nn.Sequential(\n",
    "            nn.Linear(512 * 7 * 7, 4096),\n",
    "            nn.ReLU(inplace = True),\n",
    "            nn.Dropout(0.5),\n",
    "            nn.Linear(4096, 4096),\n",
    "            nn.ReLU(inplace = True),\n",
    "            nn.Dropout(0.5),\n",
    "            nn.Linear(4096, num_classes),\n",
    "            nn.LogSoftmax(dim=1)\n",
    "        )\n",
    "    \n",
    "    # forward step\n",
    "    def forward(self, x):\n",
    "        x = self.features(x)\n",
    "        x = self.avgpool(x)\n",
    "        x = x.view(x.shape[0], -1)\n",
    "        x = self.classifier(x)\n",
    "        return x"
   ]
  },
  {
   "cell_type": "code",
   "execution_count": 0,
   "metadata": {
    "colab": {},
    "colab_type": "code",
    "id": "K7FgNZkUlAqd"
   },
   "outputs": [],
   "source": [
    "# define loss\n",
    "criterion = nn.NLLLoss()"
   ]
  },
  {
   "cell_type": "code",
   "execution_count": 6,
   "metadata": {
    "colab": {
     "base_uri": "https://localhost:8080/",
     "height": 1000
    },
    "colab_type": "code",
    "id": "Gb0RCMKYlDoC",
    "outputId": "aa709c76-19c4-499d-8408-b34ddceafc5a"
   },
   "outputs": [
    {
     "data": {
      "text/plain": [
       "VGG16(\n",
       "  (features): Sequential(\n",
       "    (0): Conv2d(3, 64, kernel_size=(3, 3), stride=(1, 1), padding=(1, 1))\n",
       "    (1): BatchNorm2d(64, eps=1e-05, momentum=0.1, affine=True, track_running_stats=True)\n",
       "    (2): ReLU(inplace=True)\n",
       "    (3): Conv2d(64, 64, kernel_size=(3, 3), stride=(1, 1), padding=(1, 1))\n",
       "    (4): BatchNorm2d(64, eps=1e-05, momentum=0.1, affine=True, track_running_stats=True)\n",
       "    (5): ReLU(inplace=True)\n",
       "    (6): MaxPool2d(kernel_size=2, stride=2, padding=0, dilation=1, ceil_mode=False)\n",
       "    (7): Conv2d(64, 128, kernel_size=(3, 3), stride=(1, 1), padding=(1, 1))\n",
       "    (8): BatchNorm2d(128, eps=1e-05, momentum=0.1, affine=True, track_running_stats=True)\n",
       "    (9): ReLU(inplace=True)\n",
       "    (10): Conv2d(128, 128, kernel_size=(3, 3), stride=(1, 1), padding=(1, 1))\n",
       "    (11): BatchNorm2d(128, eps=1e-05, momentum=0.1, affine=True, track_running_stats=True)\n",
       "    (12): ReLU(inplace=True)\n",
       "    (13): MaxPool2d(kernel_size=2, stride=2, padding=0, dilation=1, ceil_mode=False)\n",
       "    (14): Conv2d(128, 256, kernel_size=(3, 3), stride=(1, 1), padding=(1, 1))\n",
       "    (15): BatchNorm2d(256, eps=1e-05, momentum=0.1, affine=True, track_running_stats=True)\n",
       "    (16): ReLU(inplace=True)\n",
       "    (17): Conv2d(256, 256, kernel_size=(3, 3), stride=(1, 1), padding=(1, 1))\n",
       "    (18): BatchNorm2d(256, eps=1e-05, momentum=0.1, affine=True, track_running_stats=True)\n",
       "    (19): ReLU(inplace=True)\n",
       "    (20): Conv2d(256, 256, kernel_size=(3, 3), stride=(1, 1), padding=(1, 1))\n",
       "    (21): BatchNorm2d(256, eps=1e-05, momentum=0.1, affine=True, track_running_stats=True)\n",
       "    (22): ReLU(inplace=True)\n",
       "    (23): MaxPool2d(kernel_size=2, stride=2, padding=0, dilation=1, ceil_mode=False)\n",
       "    (24): Conv2d(256, 512, kernel_size=(3, 3), stride=(1, 1), padding=(1, 1))\n",
       "    (25): BatchNorm2d(512, eps=1e-05, momentum=0.1, affine=True, track_running_stats=True)\n",
       "    (26): ReLU(inplace=True)\n",
       "    (27): Conv2d(512, 512, kernel_size=(3, 3), stride=(1, 1), padding=(1, 1))\n",
       "    (28): BatchNorm2d(512, eps=1e-05, momentum=0.1, affine=True, track_running_stats=True)\n",
       "    (29): ReLU(inplace=True)\n",
       "    (30): Conv2d(512, 512, kernel_size=(3, 3), stride=(1, 1), padding=(1, 1))\n",
       "    (31): BatchNorm2d(512, eps=1e-05, momentum=0.1, affine=True, track_running_stats=True)\n",
       "    (32): ReLU(inplace=True)\n",
       "    (33): MaxPool2d(kernel_size=2, stride=2, padding=0, dilation=1, ceil_mode=False)\n",
       "    (34): Conv2d(512, 512, kernel_size=(3, 3), stride=(1, 1), padding=(1, 1))\n",
       "    (35): BatchNorm2d(512, eps=1e-05, momentum=0.1, affine=True, track_running_stats=True)\n",
       "    (36): ReLU(inplace=True)\n",
       "    (37): Conv2d(512, 512, kernel_size=(3, 3), stride=(1, 1), padding=(1, 1))\n",
       "    (38): BatchNorm2d(512, eps=1e-05, momentum=0.1, affine=True, track_running_stats=True)\n",
       "    (39): ReLU(inplace=True)\n",
       "    (40): Conv2d(512, 512, kernel_size=(3, 3), stride=(1, 1), padding=(1, 1))\n",
       "    (41): BatchNorm2d(512, eps=1e-05, momentum=0.1, affine=True, track_running_stats=True)\n",
       "    (42): ReLU(inplace=True)\n",
       "    (43): MaxPool2d(kernel_size=2, stride=2, padding=0, dilation=1, ceil_mode=False)\n",
       "  )\n",
       "  (avgpool): AdaptiveAvgPool2d(output_size=7)\n",
       "  (classifier): Sequential(\n",
       "    (0): Linear(in_features=25088, out_features=4096, bias=True)\n",
       "    (1): ReLU(inplace=True)\n",
       "    (2): Dropout(p=0.5, inplace=False)\n",
       "    (3): Linear(in_features=4096, out_features=4096, bias=True)\n",
       "    (4): ReLU(inplace=True)\n",
       "    (5): Dropout(p=0.5, inplace=False)\n",
       "    (6): Linear(in_features=4096, out_features=2, bias=True)\n",
       "    (7): LogSoftmax()\n",
       "  )\n",
       ")"
      ]
     },
     "execution_count": 6,
     "metadata": {
      "tags": []
     },
     "output_type": "execute_result"
    }
   ],
   "source": [
    "device = torch.device(\"cuda\" if torch.cuda.is_available() else \"cpu\")\n",
    "model = VGG16()\n",
    "model.to(device)"
   ]
  },
  {
   "cell_type": "code",
   "execution_count": 0,
   "metadata": {
    "colab": {},
    "colab_type": "code",
    "id": "jRMBLKmMlGEZ"
   },
   "outputs": [],
   "source": [
    "# optimizer to be used\n",
    "optimizer = torch.optim.SGD(model.parameters(), lr=0.005, momentum=0.9)"
   ]
  },
  {
   "cell_type": "code",
   "execution_count": 0,
   "metadata": {
    "colab": {
     "base_uri": "https://localhost:8080/",
     "height": 1000
    },
    "colab_type": "code",
    "id": "H3Xo__pvlKQg",
    "outputId": "76a352e0-5ffa-455a-a710-c6dd51b8504c"
   },
   "outputs": [
    {
     "name": "stdout",
     "output_type": "stream",
     "text": [
      "\n",
      "Epoch0:\n",
      "Training Accuracy: 56.291109696583916    Validation Accuracy: 58.360442420299286\n",
      "Training Loss: 0.8628078749624349    Validation Loss: 0.6728615017281365\n",
      "\n",
      "\n",
      "Epoch1:\n",
      "Training Accuracy: 62.32230002121791    Validation Accuracy: 65.50097592713078\n",
      "Training Loss: 0.652990682448371    Validation Loss: 0.6364858393202123\n",
      "\n",
      "\n",
      "Epoch2:\n",
      "Training Accuracy: 66.26883089327393    Validation Accuracy: 69.72999349381914\n",
      "Training Loss: 0.6152944797176426    Validation Loss: 0.5985969910302114\n",
      "\n",
      "\n",
      "Epoch3:\n",
      "Training Accuracy: 68.13070231275196    Validation Accuracy: 71.55172413793103\n",
      "Training Loss: 0.5983974743697603    Validation Loss: 0.5775642748346034\n",
      "\n",
      "\n",
      "Epoch4:\n",
      "Training Accuracy: 69.51517080415871    Validation Accuracy: 71.08002602472348\n",
      "Training Loss: 0.5821140222630259    Validation Loss: 0.5855316713298719\n",
      "\n",
      "\n",
      "Epoch5:\n",
      "Training Accuracy: 71.87035858264376    Validation Accuracy: 72.10474951203643\n",
      "Training Loss: 0.5563490504935636    Validation Loss: 0.5556322237879959\n",
      "\n",
      "\n",
      "Epoch6:\n",
      "Training Accuracy: 74.16189263738595    Validation Accuracy: 72.02342225113858\n",
      "Training Loss: 0.5207912261203184    Validation Loss: 0.5242106459804416\n",
      "\n",
      "\n",
      "Epoch7:\n",
      "Training Accuracy: 76.68682367918524    Validation Accuracy: 78.52960312296682\n",
      "Training Loss: 0.4839156205371275    Validation Loss: 0.4537503602578468\n",
      "\n",
      "\n",
      "Epoch8:\n",
      "Training Accuracy: 78.41608317419903    Validation Accuracy: 79.78204294079376\n",
      "Training Loss: 0.44801572106652343    Validation Loss: 0.42830294032686766\n",
      "\n",
      "\n",
      "Epoch9:\n",
      "Training Accuracy: 80.56970082749841    Validation Accuracy: 77.78139232270657\n",
      "Training Loss: 0.41433657473426755    Validation Loss: 0.4439962762840015\n",
      "\n",
      "\n",
      "Epoch10:\n",
      "Training Accuracy: 82.12391258221939    Validation Accuracy: 79.50553025374106\n",
      "Training Loss: 0.3837629178823051    Validation Loss: 0.4221397506207535\n",
      "\n",
      "\n",
      "Epoch11:\n",
      "Training Accuracy: 83.99639295565457    Validation Accuracy: 83.6857514638907\n",
      "Training Loss: 0.35085296691474266    Validation Loss: 0.3487026162983216\n",
      "\n",
      "\n",
      "Epoch12:\n",
      "Training Accuracy: 84.28283471249735    Validation Accuracy: 82.05920624593364\n",
      "Training Loss: 0.33420177566803105    Validation Loss: 0.3686325828131941\n",
      "\n",
      "\n",
      "Epoch13:\n",
      "Training Accuracy: 85.7203479736898    Validation Accuracy: 81.96161353285622\n",
      "Training Loss: 0.31808941298622195    Validation Loss: 0.3543540602645923\n",
      "\n",
      "\n",
      "Epoch14:\n",
      "Training Accuracy: 86.02270316146829    Validation Accuracy: 86.62979830839296\n",
      "Training Loss: 0.2980190416513863    Validation Loss: 0.30216550212545495\n",
      "\n",
      "\n",
      "Epoch15:\n",
      "Training Accuracy: 87.22151495862508    Validation Accuracy: 87.91476903057905\n",
      "Training Loss: 0.28405543969849406    Validation Loss: 0.26739613988350347\n",
      "\n",
      "\n",
      "Epoch16:\n",
      "Training Accuracy: 87.51326119244642    Validation Accuracy: 87.58945998698763\n",
      "Training Loss: 0.2719234397855856    Validation Loss: 0.2847388758487308\n",
      "\n",
      "\n",
      "Epoch17:\n",
      "Training Accuracy: 87.47082537661787    Validation Accuracy: 87.15029277813923\n",
      "Training Loss: 0.270802730675471    Validation Loss: 0.3138177915639484\n",
      "\n",
      "\n",
      "Epoch18:\n",
      "Training Accuracy: 88.91364311478888    Validation Accuracy: 89.11841249186728\n",
      "Training Loss: 0.24882264589354144    Validation Loss: 0.24492605898490885\n",
      "\n"
     ]
    }
   ],
   "source": [
    "train_losses = []\n",
    "train_acc = []\n",
    "val_losses = []\n",
    "val_acc = []\n",
    "\n",
    "# train and validate\n",
    "for epoch in range(0, 40):\n",
    "    \n",
    "    # train\n",
    "    model.train()\n",
    "    training_loss = 0.0\n",
    "    total = 0\n",
    "    correct = 0\n",
    "    for i, (input, target) in enumerate(train_loader):\n",
    "        \n",
    "        input = input.to(device)\n",
    "        target = target.to(device)\n",
    "\n",
    "        optimizer.zero_grad()\n",
    "        output = model(input)\n",
    "        loss = criterion(output, target)\n",
    "        \n",
    "        loss.backward()\n",
    "        optimizer.step()\n",
    "        \n",
    "        training_loss = training_loss + loss.item()\n",
    "        _, predicted = output.max(1)\n",
    "        total += target.size(0)\n",
    "        correct += predicted.eq(target).sum().item()\n",
    "        \n",
    "    training_loss = training_loss / float(len(train_loader))\n",
    "    training_accuracy = str(100.0 * (float(correct) / float(total)))\n",
    "    train_losses.append(training_loss)\n",
    "    train_acc.append(training_accuracy)\n",
    "    \n",
    "    # validate\n",
    "    model.eval()\n",
    "    valid_loss = 0.0\n",
    "    total = 0\n",
    "    correct = 0\n",
    "    for i, (input, target) in enumerate(val_loader):\n",
    "        \n",
    "        with torch.no_grad():\n",
    "            input = input.to(device)\n",
    "            target = target.to(device)\n",
    "\n",
    "            output = model(input)\n",
    "            loss = criterion(output, target)\n",
    "            _, predicted = output.max(1)\n",
    "            total += target.size(0)\n",
    "            correct += predicted.eq(target).sum().item()\n",
    "            \n",
    "        valid_loss = valid_loss + loss.item()\n",
    "    valid_loss = valid_loss / float(len(val_loader))\n",
    "    valid_accuracy = str(100.0 * (float(correct) / float(total)))\n",
    "    val_losses.append(valid_loss)\n",
    "    val_acc.append(valid_accuracy)\n",
    "    \n",
    "    print()\n",
    "    print(\"Epoch\" + str(epoch) + \":\")\n",
    "    print(\"Training Accuracy: \" + str(training_accuracy) + \"    Validation Accuracy: \" + str(valid_accuracy))\n",
    "    print(\"Training Loss: \" + str(training_loss) + \"    Validation Loss: \" + str(valid_loss))\n",
    "    print()"
   ]
  },
  {
   "cell_type": "code",
   "execution_count": 9,
   "metadata": {
    "colab": {
     "base_uri": "https://localhost:8080/",
     "height": 102
    },
    "colab_type": "code",
    "id": "j1jLp-5qUCGW",
    "outputId": "e6db15a0-f5df-4041-eddc-fb0fc1cec3f0"
   },
   "outputs": [
    {
     "name": "stdout",
     "output_type": "stream",
     "text": [
      "40\n",
      "40\n",
      "40\n",
      "40\n",
      "40\n"
     ]
    }
   ],
   "source": [
    "import matplotlib.pyplot as plt\n",
    "epochs = []\n",
    "for index in range(0, 40):\n",
    "  epochs.append(index)\n",
    "\n",
    "print(len(epochs))\n",
    "print(len(train_losses))\n",
    "print(len(val_losses))\n",
    "print(len(train_acc))\n",
    "print(len(val_acc))"
   ]
  },
  {
   "cell_type": "code",
   "execution_count": 14,
   "metadata": {
    "colab": {
     "base_uri": "https://localhost:8080/",
     "height": 295
    },
    "colab_type": "code",
    "id": "hy4oszRZfoUq",
    "outputId": "d7c36e44-b6a7-4574-a866-f11056d773ef"
   },
   "outputs": [
    {
     "data": {
      "image/png": "[encoded data removed]",
      "text/plain": [
       "<Figure size 432x288 with 1 Axes>"
      ]
     },
     "metadata": {
      "needs_background": "light",
      "tags": []
     },
     "output_type": "display_data"
    }
   ],
   "source": [
    "x = []\n",
    "y = []\n",
    "for index in range(0, 40, 2):\n",
    "  x.append(epochs[index])\n",
    "  train_acc[index] = int(float(train_acc[index]))\n",
    "  y.append(train_acc[index])\n",
    "\n",
    "plt.title(\"Training Accuracy vs Epoch\")\n",
    "plt.xlabel(\"Epoch\")\n",
    "plt.ylabel(\"Training Accuracy\")\n",
    "plt.plot(x, y)\n",
    "#plt.show()\n",
    "plt.savefig(\"/content/drive/My Drive/case4_1.png\")"
   ]
  },
  {
   "cell_type": "code",
   "execution_count": 15,
   "metadata": {
    "colab": {
     "base_uri": "https://localhost:8080/",
     "height": 295
    },
    "colab_type": "code",
    "id": "q7Us9Sb3lQgm",
    "outputId": "be96abcb-630e-4576-ed4a-77b8473ce672"
   },
   "outputs": [
    {
     "data": {
      "image/png": "[encoded data removed]",
      "text/plain": [
       "<Figure size 432x288 with 1 Axes>"
      ]
     },
     "metadata": {
      "needs_background": "light",
      "tags": []
     },
     "output_type": "display_data"
    }
   ],
   "source": [
    "import numpy as np\n",
    "x = []\n",
    "y = []\n",
    "for index in range(0, 40, 2):\n",
    "  x.append(epochs[index])\n",
    "  val_acc[index] = int(float(val_acc[index]))\n",
    "  y.append(val_acc[index])\n",
    "\n",
    "plt.title(\"Validation Accuracy vs Epoch\")\n",
    "plt.xlabel(\"Epoch\")\n",
    "plt.ylabel(\"Validation Accuracy\")\n",
    "plt.plot(x, y)\n",
    "#plt.show()\n",
    "plt.savefig(\"/content/drive/My Drive/case4_2.png\")"
   ]
  },
  {
   "cell_type": "code",
   "execution_count": 16,
   "metadata": {
    "colab": {
     "base_uri": "https://localhost:8080/",
     "height": 295
    },
    "colab_type": "code",
    "id": "hGsba627Y-oP",
    "outputId": "e59b24fd-5ee1-416e-dfc0-a9ff71485030"
   },
   "outputs": [
    {
     "data": {
      "image/png": "[encoded data removed]",
      "text/plain": [
       "<Figure size 432x288 with 1 Axes>"
      ]
     },
     "metadata": {
      "needs_background": "light",
      "tags": []
     },
     "output_type": "display_data"
    }
   ],
   "source": [
    "plt.title(\"Validation Loss vs Epoch\")\n",
    "plt.xlabel(\"Epoch\")\n",
    "plt.ylabel(\"Validation Loss\")\n",
    "plt.plot(epochs, val_losses)\n",
    "#plt.show()\n",
    "plt.savefig(\"/content/drive/My Drive/case4_3.png\")"
   ]
  },
  {
   "cell_type": "code",
   "execution_count": 17,
   "metadata": {
    "colab": {
     "base_uri": "https://localhost:8080/",
     "height": 295
    },
    "colab_type": "code",
    "id": "cFNZ9suDbuiY",
    "outputId": "35413e80-535c-40ae-c867-b8f8fbc45b10"
   },
   "outputs": [
    {
     "data": {
      "image/png": "[encoded data removed]",
      "text/plain": [
       "<Figure size 432x288 with 1 Axes>"
      ]
     },
     "metadata": {
      "needs_background": "light",
      "tags": []
     },
     "output_type": "display_data"
    }
   ],
   "source": [
    "plt.title(\"Training Loss vs Epoch\")\n",
    "plt.xlabel(\"Epoch\")\n",
    "plt.ylabel(\"Training Loss\")\n",
    "plt.plot(epochs, train_losses)\n",
    "#plt.show()\n",
    "plt.savefig(\"/content/drive/My Drive/case4_4.png\")"
   ]
  },
  {
   "cell_type": "code",
   "execution_count": 0,
   "metadata": {
    "colab": {},
    "colab_type": "code",
    "id": "pEsWg7_DjuYL"
   },
   "outputs": [],
   "source": [
    "torch.save(model.state_dict(), '/content/drive/My Drive/model_case2.pth')"
   ]
  },
  {
   "cell_type": "code",
   "execution_count": 0,
   "metadata": {
    "colab": {},
    "colab_type": "code",
    "id": "SksIiYvKDoU-"
   },
   "outputs": [],
   "source": []
  }
 ],
 "metadata": {
  "accelerator": "GPU",
  "colab": {
   "collapsed_sections": [],
   "name": "Untitled",
   "provenance": []
  },
  "kernelspec": {
   "display_name": "Python 3",
   "language": "python",
   "name": "python3"
  },
  "language_info": {
   "codemirror_mode": {
    "name": "ipython",
    "version": 2
   },
   "file_extension": ".py",
   "mimetype": "text/x-python",
   "name": "python",
   "nbconvert_exporter": "python",
   "pygments_lexer": "ipython2",
   "version": "2.7.12"
  }
 },
 "nbformat": 4,
 "nbformat_minor": 1
}
