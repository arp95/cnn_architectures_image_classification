{
 "cells": [
  {
   "cell_type": "code",
   "execution_count": 1,
   "metadata": {},
   "outputs": [],
   "source": [
    "# header files\n",
    "import torch\n",
    "import torchvision\n",
    "import torchvision.transforms as transforms\n",
    "from torchvision import datasets\n",
    "from torch.utils.data.sampler import SubsetRandomSampler\n",
    "import numpy as np"
   ]
  },
  {
   "cell_type": "code",
   "execution_count": 2,
   "metadata": {},
   "outputs": [
    {
     "name": "stdout",
     "output_type": "stream",
     "text": [
      "Files already downloaded and verified\n",
      "Files already downloaded and verified\n"
     ]
    }
   ],
   "source": [
    "# number of workers\n",
    "num_workers = 0\n",
    "\n",
    "# batch size\n",
    "batch_size = 20\n",
    "\n",
    "# percentage validation data\n",
    "valid_size = 0.2\n",
    "\n",
    "# convert data to a normalized torch.FloatTensor\n",
    "transform = transforms.Compose([\n",
    "    transforms.ToTensor(),\n",
    "    transforms.Normalize((0.5, 0.5, 0.5), (0.5, 0.5, 0.5))\n",
    "    ])\n",
    "\n",
    "# load dataset for CIFAR-10\n",
    "train_data = datasets.CIFAR10('data', train=True, download=True, transform=transform)\n",
    "test_data = datasets.CIFAR10('data', train=False, download=True, transform=transform)\n",
    "\n",
    "# shuffle the indices to be used for training and validation\n",
    "num_train = len(train_data)\n",
    "indices = list(range(num_train))\n",
    "np.random.shuffle(indices)\n",
    "split = int(np.floor(valid_size * num_train))\n",
    "train_idx, valid_idx = indices[split:], indices[:split]\n",
    "\n",
    "# define training and validation samplers\n",
    "train_sampler = SubsetRandomSampler(train_idx)\n",
    "valid_sampler = SubsetRandomSampler(valid_idx)\n",
    "\n",
    "# prepare data loaders\n",
    "train_loader = torch.utils.data.DataLoader(train_data, batch_size = batch_size, sampler = train_sampler, num_workers = num_workers)\n",
    "valid_loader = torch.utils.data.DataLoader(train_data, batch_size = batch_size, sampler = valid_sampler, num_workers = num_workers)\n",
    "test_loader = torch.utils.data.DataLoader(test_data, batch_size = batch_size, num_workers = num_workers)\n",
    "\n",
    "# classes for classification\n",
    "classes = ['airplane', 'automobile', 'bird', 'cat', 'deer', 'dog', 'frog', 'horse', 'ship', 'truck']"
   ]
  },
  {
   "cell_type": "code",
   "execution_count": 3,
   "metadata": {},
   "outputs": [],
   "source": [
    "# view image\n",
    "import cv2\n",
    "\n",
    "dataiter = iter(train_loader)\n",
    "images, labels = dataiter.next()\n",
    "images = images.numpy()\n",
    "\n",
    "image = images[0][0]\n",
    "cv2.imshow(\"Image\", image)\n",
    "cv2.waitKey(0)\n",
    "cv2.destroyAllWindows()"
   ]
  },
  {
   "cell_type": "code",
   "execution_count": 4,
   "metadata": {},
   "outputs": [
    {
     "name": "stdout",
     "output_type": "stream",
     "text": [
      "Net(\n",
      "  (conv1): Conv2d(3, 16, kernel_size=(3, 3), stride=(1, 1), padding=(1, 1))\n",
      "  (conv2): Conv2d(16, 32, kernel_size=(3, 3), stride=(1, 1), padding=(1, 1))\n",
      "  (conv3): Conv2d(32, 64, kernel_size=(3, 3), stride=(1, 1), padding=(1, 1))\n",
      "  (pool): MaxPool2d(kernel_size=2, stride=2, padding=0, dilation=1, ceil_mode=False)\n",
      "  (fc1): Linear(in_features=1024, out_features=500, bias=True)\n",
      "  (fc2): Linear(in_features=500, out_features=10, bias=True)\n",
      "  (dropout): Dropout(p=0.25, inplace=False)\n",
      ")\n"
     ]
    }
   ],
   "source": [
    "# define CNN\n",
    "import torch.nn as nn\n",
    "import torch.nn.functional as F\n",
    "\n",
    "class Net(nn.Module):\n",
    "    \n",
    "    def __init__(self):\n",
    "        super(Net, self).__init__()\n",
    "        \n",
    "        # input image of size (32 x 32 x 3)\n",
    "        self.conv1 = nn.Conv2d(3, 16, 3, padding = 1)\n",
    "        \n",
    "        # cnn1 layer of size (16 x 16 x 16)\n",
    "        self.conv2 = nn.Conv2d(16, 32, 3, padding = 1)\n",
    "        \n",
    "        # cnn2 layer of size (8 x 8 x 32)\n",
    "        self.conv3 = nn.Conv2d(32, 64, 3, padding = 1)\n",
    "        \n",
    "        # max-pooling layer\n",
    "        self.pool = nn.MaxPool2d(2, 2)\n",
    "        \n",
    "        # fc1 layer\n",
    "        self.fc1 = nn.Linear(64 * 4 * 4, 500)\n",
    "        \n",
    "        # fc2 layer\n",
    "        self.fc2 = nn.Linear(500, 10)\n",
    "        \n",
    "        # dropout layer\n",
    "        self.dropout = nn.Dropout(0.25)\n",
    "        \n",
    "        \n",
    "    def forward(self, x):\n",
    "        x = self.pool(F.relu(self.conv1(x)))\n",
    "        x = self.pool(F.relu(self.conv2(x)))\n",
    "        x = self.pool(F.relu(self.conv3(x)))\n",
    "        x = x.view(-1, 64 * 4 * 4)\n",
    "        x = self.dropout(x)\n",
    "        x = F.relu(self.fc1(x))\n",
    "        x = self.dropout(x)\n",
    "        x = self.fc2(x)\n",
    "        return x\n",
    "    \n",
    "net = Net()\n",
    "print(net)"
   ]
  },
  {
   "cell_type": "code",
   "execution_count": 5,
   "metadata": {},
   "outputs": [],
   "source": [
    "# define loss and optimizer\n",
    "import torch.optim as optim\n",
    "\n",
    "criterion = nn.CrossEntropyLoss()\n",
    "optimizer = optim.SGD(net.parameters(), lr = 0.01)"
   ]
  },
  {
   "cell_type": "code",
   "execution_count": 8,
   "metadata": {},
   "outputs": [
    {
     "name": "stdout",
     "output_type": "stream",
     "text": [
      "Training loss: 1.50866180596 and Valid Loss: 1.42422300816\n",
      "\n",
      "\n",
      "Training loss: 1.3841996417 and Valid Loss: 1.30255975866\n",
      "\n",
      "\n",
      "Training loss: 1.28053286946 and Valid Loss: 1.20385746217\n",
      "\n",
      "\n",
      "Training loss: 1.19811038217 and Valid Loss: 1.10849313873\n",
      "\n",
      "\n",
      "Training loss: 1.11865341745 and Valid Loss: 1.04799854648\n",
      "\n",
      "\n",
      "Training loss: 1.05435467091 and Valid Loss: 1.02154697371\n",
      "\n",
      "\n",
      "Training loss: 0.999149248317 and Valid Loss: 0.959700778127\n",
      "\n",
      "\n",
      "Training loss: 0.948836392298 and Valid Loss: 0.929198274314\n",
      "\n",
      "\n",
      "Training loss: 0.903846905023 and Valid Loss: 0.903964693844\n",
      "\n",
      "\n",
      "Training loss: 0.863266421154 and Valid Loss: 0.866632081628\n",
      "\n",
      "\n",
      "Finished Training\n"
     ]
    }
   ],
   "source": [
    "num_epochs = 10\n",
    "\n",
    "# training\n",
    "for epoch in range(0, num_epochs):  # loop over the dataset multiple times\n",
    "\n",
    "    training_loss = 0.0\n",
    "    valid_loss = 0.0\n",
    "    \n",
    "    net.train()\n",
    "    for data, label in train_loader:\n",
    "        optimizer.zero_grad()\n",
    "        \n",
    "        pred_output = net(data)\n",
    "        loss = criterion(pred_output, label)\n",
    "        \n",
    "        loss.backward()\n",
    "        optimizer.step()\n",
    "        training_loss = training_loss + (loss.item() * data.size(0))\n",
    "    \n",
    "    net.eval()\n",
    "    for data, label in valid_loader:\n",
    "        pred_output = net(data)\n",
    "        loss = criterion(pred_output, label)\n",
    "        valid_loss = valid_loss + (loss.item() * data.size(0))\n",
    "    \n",
    "    training_loss = training_loss / len(train_loader.sampler)\n",
    "    valid_loss = valid_loss / len(valid_loader.sampler)\n",
    "    \n",
    "    print(\"Training loss: \" + str(training_loss) + \" and Valid Loss: \" + str(valid_loss) + \"\\n\\n\")\n",
    "print('Finished Training')"
   ]
  },
  {
   "cell_type": "code",
   "execution_count": 12,
   "metadata": {},
   "outputs": [
    {
     "name": "stdout",
     "output_type": "stream",
     "text": [
      "Test Loss: 0.86321675092\n",
      "\n",
      "Testing Accuracy: 69.69\n"
     ]
    }
   ],
   "source": [
    "# testing phase\n",
    "test_loss = 0.0\n",
    "class_correct = list(0. for i in range(10))\n",
    "class_total = list(0. for i in range(10))\n",
    "\n",
    "net.eval()\n",
    "for data, label in test_loader:\n",
    "    pred_output = net(data)\n",
    "    loss = criterion(pred_output, label)\n",
    "    test_loss = test_loss + (loss.item() * data.size(0))\n",
    "    \n",
    "    _, pred = torch.max(pred_output, 1)\n",
    "    correct_tensor = pred.eq(label.data.view_as(pred))\n",
    "    correct = np.squeeze(correct_tensor.numpy())\n",
    "    \n",
    "    for i in range(0, batch_size):\n",
    "        class_correct[label.data[i]] = class_correct[label.data[i]] + correct[i].item()\n",
    "        class_total[label.data[i]] = class_total[label.data[i]] + 1\n",
    "    \n",
    "test_loss = test_loss / len(test_loader.dataset)\n",
    "print(\"Test Loss: \" + str(test_loss) + \"\\n\")\n",
    "print(\"Testing Accuracy: \" + str(100.0 * (np.sum(class_correct) / np.sum(class_total))))"
   ]
  },
  {
   "cell_type": "code",
   "execution_count": null,
   "metadata": {},
   "outputs": [],
   "source": []
  }
 ],
 "metadata": {
  "kernelspec": {
   "display_name": "Python 3",
   "language": "python",
   "name": "python3"
  },
  "language_info": {
   "codemirror_mode": {
    "name": "ipython",
    "version": 2
   },
   "file_extension": ".py",
   "mimetype": "text/x-python",
   "name": "python",
   "nbconvert_exporter": "python",
   "pygments_lexer": "ipython2",
   "version": "2.7.12"
  }
 },
 "nbformat": 4,
 "nbformat_minor": 2
}
